{
  "nbformat": 4,
  "nbformat_minor": 0,
  "metadata": {
    "colab": {
      "name": "Arboles1310.ipynb",
      "provenance": [],
      "authorship_tag": "ABX9TyPmg0v0NvjIqzSMTNUGlDEv",
      "include_colab_link": true
    },
    "kernelspec": {
      "name": "python3",
      "display_name": "Python 3"
    },
    "language_info": {
      "name": "python"
    }
  },
  "cells": [
    {
      "cell_type": "markdown",
      "metadata": {
        "id": "view-in-github",
        "colab_type": "text"
      },
      "source": [
        "<a href=\"https://colab.research.google.com/github/AbrilMontiel/Clase-30-NOV/blob/master/Arboles1310.ipynb\" target=\"_parent\"><img src=\"https://colab.research.google.com/assets/colab-badge.svg\" alt=\"Open In Colab\"/></a>"
      ]
    },
    {
      "cell_type": "code",
      "metadata": {
        "id": "I1LHyXx8BeHV"
      },
      "source": [
        "class NodoBinario:\n",
        "  def __init__( self, value, left = None, rigth = None ):\n",
        "    self.data = value\n",
        "    self.left = left\n",
        "    self.rigth = rigth\n",
        "\n",
        "class NodoTernario:\n",
        "  def __init__( self, value, left = None, center = None, rigth = None ):\n",
        "    self.data = value\n",
        "    self.left = left\n",
        "    self.center = center\n",
        "    self.rigth = rigth\n"
      ],
      "execution_count": 1,
      "outputs": []
    },
    {
      "cell_type": "code",
      "metadata": {
        "colab": {
          "base_uri": "https://localhost:8080/"
        },
        "id": "eIWjbYxUD0Cn",
        "outputId": "5c2c7d0d-7b03-4a50-ea94-93458e003182"
      },
      "source": [
        "arbol1 = NodoBinario( \"R\", NodoBinario( \"C\" ), NodoBinario( \"H\" ) ) \n",
        "print( arbol1.rigth.data )\n",
        "\n",
        "arbol2 = NodoTernario( 4 , NodoTernario( 3, NodoTernario( 5 , left=NodoTernario( 2 ) ), NodoTernario( 5 ), NodoTernario( 2 ) ), None, NodoTernario( 5 ) )\n",
        "\n",
        "print( arbol2.left.rigth.data )\n",
        "print( arbol2.data )\n",
        "print( arbol2.left.center.data )\n",
        "print(arbol2.left.left.left.data)\n",
        "\n",
        "print(\"------ Imprimir el mismo sin left ------\")\n",
        "ejemplo = arbol2.left.left.left.data\n",
        "print(ejemplo)\n",
        "\n",
        "print(\"------ Otra forma ------\")\n",
        "aux = arbol2\n",
        "while ( aux.left != None ):\n",
        "  aux = aux.left\n",
        "print( aux.data )\n",
        "\n",
        "print(\"------ Arbol 3 ------\")\n",
        "root = NodoBinario( \"Santi \", None, NodoBinario( \"Jesús\", NodoBinario( \"Pedro\", None, NodoBinario( \"Pedro Jr.\") ) ) )\n",
        "print(root.rigth.left.rigth.data)"
      ],
      "execution_count": 2,
      "outputs": [
        {
          "output_type": "stream",
          "name": "stdout",
          "text": [
            "H\n",
            "2\n",
            "4\n",
            "5\n",
            "2\n",
            "------ Imprimir el mismo sin left ------\n",
            "2\n",
            "------ Otra forma ------\n",
            "2\n",
            "------ Arbol 3 ------\n",
            "Pedro Jr.\n"
          ]
        }
      ]
    },
    {
      "cell_type": "code",
      "metadata": {
        "id": "-heUo-2A2wcY"
      },
      "source": [
        "class NodoBinario:\n",
        "  def __init__( self, value, left = None, rigth = None ):\n",
        "    self.data = value\n",
        "    self.left = left\n",
        "    self.rigth = rigth\n",
        "\n",
        "class BinarySearchTree:\n",
        "  def __init__( self ):\n",
        "    self.root = None\n",
        "\n",
        "  def insert( self, value ):\n",
        "    if self.root == None:\n",
        "        self.root = NodoBinario( value )\n",
        "    else:\n",
        "      self.__insert_nodo( self.root, value )\n",
        "\n",
        "  def __insert_nodo( self, nodo, value ):\n",
        "    if nodo.data == value:\n",
        "      pass\n",
        "    elif value < nodo.data:\n",
        "      if nodo.left == None:\n",
        "        nodo.left = NodoBinario( value )\n",
        "      else:\n",
        "        self.__insert_nodo( nodo.left, value )\n",
        "    else:\n",
        "      if nodo.rigth == None:\n",
        "        nodo.rigth = NodoBinario( value )\n",
        "      else:\n",
        "        self.__insert_nodo( nodo.rigth, value )\n",
        "\n",
        "  def transversal( self, formato = \"postorden\" ):\n",
        "    if formato == \"postorden\":\n",
        "      self.recorrido_post( self.root )\n",
        "    elif formato == \"preorden\":\n",
        "      self.recorrido_pre( self.root )\n",
        "    else:\n",
        "      self.recorrido_in( self.root )\n",
        "    print()\n",
        "\n",
        "  def recorrido_post( self, nodo ):\n",
        "    if nodo != None:\n",
        "      self.recorrido_post( nodo.left )\n",
        "      self.recorrido_post( nodo.rigth )\n",
        "      print( str(nodo.data), end=\" , \" )\n",
        "\n",
        "  def recorrido_pre( self, nodo ):\n",
        "    if nodo != None:\n",
        "      print( str(nodo.data), end=\" , \" )\n",
        "      self.recorrido_pre( nodo.left )\n",
        "      self.recorrido_pre( nodo.rigth )\n",
        "\n",
        "  def recorrido_in( self, nodo ):\n",
        "    if nodo != None:\n",
        "      self.recorrido_in( nodo.left )\n",
        "      print( str(nodo.data), end=\" , \" )\n",
        "      self.recorrido_in( nodo.rigth )  \n",
        "\n",
        "  def search( self, value ):\n",
        "    if self.root == None:\n",
        "      print( \"El árbol está vacío\" )\n",
        "      return None\n",
        "    else:\n",
        "      self.__search( self.root, value )\n",
        "\n",
        "  def __search( self, nodo, value ):\n",
        "    if nodo.data == None:\n",
        "      print( \"El dato no existe en el árbol\" )\n",
        "      return None\n",
        "    elif nodo.data == value:\n",
        "      print(\"Encontrado\")\n",
        "      return nodo\n",
        "    elif value < nodo.data:\n",
        "      return self.__buscar( nodo.left, value )\n",
        "    else:\n",
        "      return self.__buscar( nodo.rigth, value )\n",
        "\n",
        "\n"
      ],
      "execution_count": 33,
      "outputs": []
    },
    {
      "cell_type": "code",
      "metadata": {
        "colab": {
          "base_uri": "https://localhost:8080/"
        },
        "id": "BHOmLpBg95Q0",
        "outputId": "768faf53-6bcb-4845-c95b-b334d71acad7"
      },
      "source": [
        "arb1 = BinarySearchTree()\n",
        "arb1.insert( 60 )\n",
        "arb1.insert( 30 )\n",
        "arb1.insert( 15 )\n",
        "arb1.insert( 40 )\n",
        "arb1.transversal( \"postorden\" )\n",
        "arb1.transversal( \"preorden\" )\n",
        "arb1.transversal( \"inorden\" )"
      ],
      "execution_count": 34,
      "outputs": [
        {
          "output_type": "stream",
          "name": "stdout",
          "text": [
            "15 , 40 , 30 , 60 , \n",
            "60 , 30 , 15 , 40 , \n",
            "15 , 30 , 40 , 60 , \n"
          ]
        }
      ]
    }
  ]
}